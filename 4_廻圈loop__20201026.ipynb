{
  "nbformat": 4,
  "nbformat_minor": 0,
  "metadata": {
    "colab": {
      "name": "4_廻圈loop教學版_ 20201026.ipynb",
      "provenance": [],
      "collapsed_sections": [],
      "include_colab_link": true
    },
    "kernelspec": {
      "name": "python3",
      "display_name": "Python 3"
    }
  },
  "cells": [
    {
      "cell_type": "markdown",
      "metadata": {
        "id": "view-in-github",
        "colab_type": "text"
      },
      "source": [
        "<a href=\"https://colab.research.google.com/github/comelongwithme/python2020/blob/main/4_%E5%BB%BB%E5%9C%88loop__20201026.ipynb\" target=\"_parent\"><img src=\"https://colab.research.google.com/assets/colab-badge.svg\" alt=\"Open In Colab\"/></a>"
      ]
    },
    {
      "cell_type": "markdown",
      "metadata": {
        "id": "e2h0oGIHezSa"
      },
      "source": [
        "# 4_廻圈loop\n",
        "\n",
        "## 課程目標：\n",
        "```\n",
        "[1].使用range 函式 的功能建立整數循序數列\n",
        "\n",
        "[2].使用for 廻圈 執行固定次數的廻圈運算(通常)\n",
        "[3].使用while 廻圈執行沒有固定次數的廻圈運算\n",
        "\n",
        "[4].continue 指令 \n",
        "  是在廻圈執行中途暫時停住不往下執行，而跳到廻圈的起始處執行\n",
        "[5].break 指令:可在廻圈執行中途強迫跳離廻圈，跳到廻圈後面的程式繼續執行。\n",
        "\n",
        "[6].廻圈中又包含廻圈的巢狀廻圈(Nested Loop)　===>設計九九乘法表\n",
        "```\n",
        "```\n",
        "PS:Python沒有do… while 廻圈\n",
        "你自己實作一個吧?!!\n",
        "```"
      ]
    },
    {
      "cell_type": "markdown",
      "metadata": {
        "id": "3HJ3ouzrXvxd"
      },
      "source": [
        "\n",
        "# 1.range() 函式\n",
        "```\n",
        " 使用range 函式 的建立整數循序數列\n",
        " \n",
        "變數1 = range(整數值)\n",
        "變數2 = range(起始值, 終止值)\n",
        "變數3 = range(起始值, 終止值, 多少間隔)\n",
        "```\n",
        "### 變數1 = range(整數值)\n",
        "\n",
        "底下程式執行後結果為何?\n",
        "```\n",
        "list1=range(10)\n",
        "print(list1)\n",
        "\n",
        "print(list(list1))\n",
        "```"
      ]
    },
    {
      "cell_type": "code",
      "metadata": {
        "id": "MrJ2-KHlkUau",
        "outputId": "7b572d22-0fce-48de-d2db-567d69641d38",
        "colab": {
          "base_uri": "https://localhost:8080/",
          "height": 51
        }
      },
      "source": [
        "list1=range(10)\n",
        "print(list1)\n",
        " \n",
        "print(list(list1))"
      ],
      "execution_count": 1,
      "outputs": [
        {
          "output_type": "stream",
          "text": [
            "range(0, 10)\n",
            "[0, 1, 2, 3, 4, 5, 6, 7, 8, 9]\n"
          ],
          "name": "stdout"
        }
      ]
    },
    {
      "cell_type": "markdown",
      "metadata": {
        "id": "4vp4Bukue2Vf"
      },
      "source": [
        "### 變數2 = range(起始值, 終止值)\n",
        "\n",
        "底下程式執行後結果為何?\n",
        "```\n",
        "list2=range(-4,5)\n",
        "print(list(list2))\n",
        "```"
      ]
    },
    {
      "cell_type": "code",
      "metadata": {
        "id": "4xKgKR2Jkam8",
        "outputId": "87c11e69-2f29-4e85-d400-9ba8633421e3",
        "colab": {
          "base_uri": "https://localhost:8080/",
          "height": 34
        }
      },
      "source": [
        "list2=range(-4,5)\n",
        "print(list(list2))"
      ],
      "execution_count": 2,
      "outputs": [
        {
          "output_type": "stream",
          "text": [
            "[-4, -3, -2, -1, 0, 1, 2, 3, 4]\n"
          ],
          "name": "stdout"
        }
      ]
    },
    {
      "cell_type": "markdown",
      "metadata": {
        "id": "0vLZKwq4e4nF"
      },
      "source": [
        "### 變數3 = range(起始值, 終止值, 多少間隔)\n",
        "\n",
        "底下程式執行後結果為何?\n",
        "```\n",
        "list3=range(-4,5,2)\n",
        "print(list(list3))\n",
        "```"
      ]
    },
    {
      "cell_type": "code",
      "metadata": {
        "id": "tAeGPTfIkdW7",
        "outputId": "51302c41-7075-4612-ae3c-efa9793d822f",
        "colab": {
          "base_uri": "https://localhost:8080/",
          "height": 34
        }
      },
      "source": [
        "list3=range(-4,5,2)\n",
        "print(list(list3))"
      ],
      "execution_count": 3,
      "outputs": [
        {
          "output_type": "stream",
          "text": [
            "[-4, -2, 0, 2, 4]\n"
          ],
          "name": "stdout"
        }
      ]
    },
    {
      "cell_type": "markdown",
      "metadata": {
        "id": "4NhGp8bDe7jk"
      },
      "source": [
        "底下程式執行後結果為何?\n",
        "```\n",
        "list4=range(-4,6,2)\n",
        "print(list(list4))\n",
        "```"
      ]
    },
    {
      "cell_type": "code",
      "metadata": {
        "id": "W6sCMHKRhKKF",
        "outputId": "71ec8c81-4c2f-44bb-d0ac-1e3b65aba46f",
        "colab": {
          "base_uri": "https://localhost:8080/",
          "height": 34
        }
      },
      "source": [
        "list4=range(-4,6,2)\n",
        "print(list(list4))"
      ],
      "execution_count": null,
      "outputs": [
        {
          "output_type": "stream",
          "text": [
            "[-4, -2, 0, 2, 4]\n"
          ],
          "name": "stdout"
        }
      ]
    },
    {
      "cell_type": "markdown",
      "metadata": {
        "id": "MpBknYloe91x"
      },
      "source": [
        "# [2]for 廻圈 \n",
        "```\n",
        "使用for 廻圈 執行固定次數的廻圈運算(通常)\n",
        "```\n",
        "底下程式執行後結果為何?\n",
        "```\n",
        "for n in range(5):\n",
        "  print(n)\n",
        "```"
      ]
    },
    {
      "cell_type": "code",
      "metadata": {
        "id": "6s9ReMnzkn4k",
        "outputId": "b9f11fa2-79d6-460b-88cc-789632bf1d9e",
        "colab": {
          "base_uri": "https://localhost:8080/",
          "height": 102
        }
      },
      "source": [
        "for n in range(5):\n",
        "  print(n)"
      ],
      "execution_count": 5,
      "outputs": [
        {
          "output_type": "stream",
          "text": [
            "0\n",
            "1\n",
            "2\n",
            "3\n",
            "4\n"
          ],
          "name": "stdout"
        }
      ]
    },
    {
      "cell_type": "markdown",
      "metadata": {
        "id": "wV5Lu7kqX_hg"
      },
      "source": [
        "續上題:\n",
        "```\n",
        "要如何輸出 0 1 2 3 4\n",
        "而不是\n",
        "0\n",
        "1\n",
        "2\n",
        "3\n",
        "4\n",
        "```"
      ]
    },
    {
      "cell_type": "markdown",
      "metadata": {
        "id": "4PyNqd2ge__o"
      },
      "source": [
        "底下程式執行後結果為何?\n",
        "```\n",
        "for n in range(10):\n",
        "    print(n, end='@')\n",
        "\n",
        "    #print(n, end='%%%%')\n",
        "```"
      ]
    },
    {
      "cell_type": "code",
      "metadata": {
        "id": "fwmMh5UTks60",
        "outputId": "679e1064-49dd-470c-c83a-e4487df64cc5",
        "colab": {
          "base_uri": "https://localhost:8080/",
          "height": 34
        }
      },
      "source": [
        "for n in range(10):\n",
        "    print(n, end='@')\n",
        " \n",
        "    #print(n, end='%%%%')"
      ],
      "execution_count": 6,
      "outputs": [
        {
          "output_type": "stream",
          "text": [
            "0@1@2@3@4@5@6@7@8@9@"
          ],
          "name": "stdout"
        }
      ]
    },
    {
      "cell_type": "markdown",
      "metadata": {
        "id": "ywXkVIIqfCSX"
      },
      "source": [
        "底下程式執行後結果為何?\n",
        "```\n",
        "mysum = 0\n",
        "\n",
        "for n in range(5):\n",
        "  mysum += n\n",
        "  print(mysum)\n",
        "```"
      ]
    },
    {
      "cell_type": "code",
      "metadata": {
        "id": "jYlqXBvkkz27",
        "outputId": "63b4d4ad-792d-4464-819e-3796c28bbdcc",
        "colab": {
          "base_uri": "https://localhost:8080/",
          "height": 102
        }
      },
      "source": [
        "mysum = 0\n",
        " \n",
        "for n in range(5):\n",
        "  mysum += n\n",
        "  print(mysum)"
      ],
      "execution_count": 7,
      "outputs": [
        {
          "output_type": "stream",
          "text": [
            "0\n",
            "1\n",
            "3\n",
            "6\n",
            "10\n"
          ],
          "name": "stdout"
        }
      ]
    },
    {
      "cell_type": "markdown",
      "metadata": {
        "id": "NHNaJOl6fEwN"
      },
      "source": [
        "底下程式執行後結果為何?\n",
        "```\n",
        "mysum = 0\n",
        "\n",
        "for n in range(5):\n",
        "  mysum += n\n",
        "\n",
        "print(mysum)\n",
        "```"
      ]
    },
    {
      "cell_type": "code",
      "metadata": {
        "id": "T4Y5iCKUlfMe",
        "outputId": "1ed02367-a193-4345-df26-96e46b7fa211",
        "colab": {
          "base_uri": "https://localhost:8080/",
          "height": 34
        }
      },
      "source": [
        "mysum = 0\n",
        " \n",
        "for n in range(5):\n",
        "  mysum += n\n",
        " \n",
        "print(mysum)"
      ],
      "execution_count": 8,
      "outputs": [
        {
          "output_type": "stream",
          "text": [
            "10\n"
          ],
          "name": "stdout"
        }
      ]
    },
    {
      "cell_type": "markdown",
      "metadata": {
        "id": "jqcI-wsBY93E"
      },
      "source": [
        "## [程式閱讀題]\n",
        "\n",
        "執行下列程式並說明其結果\n",
        "```\n",
        "x = int(input(\"請輸入一個正整數:\"))\n",
        "my_result = 1\n",
        " \n",
        "for n in range(x):\n",
        "  my_result *= n\n",
        " \n",
        "print(my_result)\n",
        "```"
      ]
    },
    {
      "cell_type": "code",
      "metadata": {
        "id": "Pihc7vfZlh6W",
        "outputId": "34ebd651-793b-491e-ee8f-0bf6c12e849e",
        "colab": {
          "base_uri": "https://localhost:8080/",
          "height": 51
        }
      },
      "source": [
        "x = int(input(\"請輸入一個正整數:\"))\n",
        "my_result = 1\n",
        " \n",
        "for n in range(x):\n",
        "  my_result *= n\n",
        " \n",
        "print(my_result)"
      ],
      "execution_count": 13,
      "outputs": [
        {
          "output_type": "stream",
          "text": [
            "請輸入一個正整數:818\n",
            "0\n"
          ],
          "name": "stdout"
        }
      ]
    },
    {
      "cell_type": "markdown",
      "metadata": {
        "id": "ZOTul6c4fGr9"
      },
      "source": [
        "底下程式執行後結果為何?\n",
        "```\n",
        "x = int(input(\"請輸入一個正整數:\"))\n",
        "mysum = 0\n",
        "\n",
        "for n in range(x):\n",
        "  mysum += n\n",
        "\n",
        "print(mysum)\n",
        "```"
      ]
    },
    {
      "cell_type": "code",
      "metadata": {
        "id": "lh4JLejzlv2B",
        "outputId": "87b95b45-1d21-4222-dca3-80a56b871bdc",
        "colab": {
          "base_uri": "https://localhost:8080/",
          "height": 51
        }
      },
      "source": [
        "x = int(input(\"請輸入一個正整數:\"))\n",
        "mysum = 0\n",
        " \n",
        "for n in range(x):\n",
        "  mysum += n\n",
        " \n",
        "print(mysum)"
      ],
      "execution_count": 15,
      "outputs": [
        {
          "output_type": "stream",
          "text": [
            "請輸入一個正整數:42\n",
            "861\n"
          ],
          "name": "stdout"
        }
      ]
    },
    {
      "cell_type": "markdown",
      "metadata": {
        "id": "b3zTqDOOfJdT"
      },
      "source": [
        "底下程式執行後結果為何?\n",
        "```\n",
        "\n",
        "numbers = [21, 4, 35, 1, 8, 7, 3, 6, 9]\n",
        "my_numbers = []\n",
        "\n",
        "for number in numbers:\n",
        "  if (number % 2 != 0): \n",
        "    my_numbers.append(number)\n",
        "\n",
        "print(my_numbers)\n",
        "```"
      ]
    },
    {
      "cell_type": "code",
      "metadata": {
        "id": "qUSQ1zE9l2jk",
        "outputId": "e6124ace-bdef-417e-c063-f87630c69389",
        "colab": {
          "base_uri": "https://localhost:8080/",
          "height": 34
        }
      },
      "source": [
        "numbers = [21, 4, 35, 1, 8, 7, 3, 6, 9]\n",
        "my_numbers = []\n",
        " \n",
        "for number in numbers:\n",
        "  if (number % 2 != 0): \n",
        "    my_numbers.append(number)\n",
        " \n",
        "print(my_numbers)"
      ],
      "execution_count": 16,
      "outputs": [
        {
          "output_type": "stream",
          "text": [
            "[21, 35, 1, 7, 3, 9]\n"
          ],
          "name": "stdout"
        }
      ]
    },
    {
      "cell_type": "markdown",
      "metadata": {
        "id": "fkiX1kJjfOWe"
      },
      "source": [
        "### [程式閱讀題]\n",
        "上述程式如果第五行改成  if (number % 2 = 0):答案會是甚麼??"
      ]
    },
    {
      "cell_type": "code",
      "metadata": {
        "id": "-i0Bcxg_hlbq",
        "outputId": "1f409242-b488-468a-dfbd-1b6d108bb4cd",
        "colab": {
          "base_uri": "https://localhost:8080/",
          "height": 34
        }
      },
      "source": [
        "numbers = [21, 4, 35, 1, 8, 7, 3, 6, 9]\n",
        "my_numbers = []\n",
        " \n",
        "for number in numbers:\n",
        "  if (number % 2 == 0): \n",
        "    my_numbers.append(number)\n",
        " \n",
        "print(my_numbers)"
      ],
      "execution_count": 17,
      "outputs": [
        {
          "output_type": "stream",
          "text": [
            "[4, 8, 6]\n"
          ],
          "name": "stdout"
        }
      ]
    },
    {
      "cell_type": "markdown",
      "metadata": {
        "id": "4GnsMv0pfSbH"
      },
      "source": [
        "# [3]While Loop\n",
        "```\n",
        "### n階程的計算:n!=1*2*3*⋯*n\n",
        "1!　=　１\n",
        "2!　=　1*2　=　2\n",
        "3!　=　1*2*3　=　6\n",
        "```\n",
        "```\n",
        "輸入::一個正整數 n\n",
        "輸出::n!\n",
        "\n",
        "當使用者輸入一個正整數 n 後，程式就會顯示\n",
        "1*2*3*...*n 的乘積\n",
        "```\n",
        "```\n",
        "請使用 while loop設計這個程式\n",
        "```\n",
        "```\n",
        "total = i = 1\n",
        "\n",
        "n = int(input(\"請輸入正整數 n 的值：\"))\n",
        "\n",
        "while(i<=n):\n",
        "    total *= i  \n",
        "    i+=1      \n",
        "\n",
        "print(\"%d!=%d\" % (n, total))\n",
        "```"
      ]
    },
    {
      "cell_type": "code",
      "metadata": {
        "id": "RXLy8A8ImJ1z",
        "outputId": "85dec92c-87e8-4ed2-9972-be6382b87a14",
        "colab": {
          "base_uri": "https://localhost:8080/",
          "height": 50
        }
      },
      "source": [
        "total = i = 1\n",
        " \n",
        "n = int(input(\"請輸入正整數 n 的值：\"))\n",
        " \n",
        "while(i<=n):\n",
        "    total *= i  \n",
        "    i+=1      \n",
        " \n",
        "print(\"%d!=%d\" % (n, total))"
      ],
      "execution_count": 20,
      "outputs": [
        {
          "output_type": "stream",
          "text": [
            "請輸入正整數 n 的值：5\n",
            "5!=120\n"
          ],
          "name": "stdout"
        }
      ]
    },
    {
      "cell_type": "code",
      "metadata": {
        "id": "lDSiN7q6l_5s",
        "outputId": "3bd15b84-d674-4c97-bca2-c4d451be6750",
        "colab": {
          "base_uri": "https://localhost:8080/",
          "height": 130
        }
      },
      "source": [
        "### n階程的計算:n!=1*2*3*⋯*n\n",
        "1!　=　１\n",
        "2!　=　1*2　=　2\n",
        "3!　=　1*2*3　=　6"
      ],
      "execution_count": 18,
      "outputs": [
        {
          "output_type": "error",
          "ename": "SyntaxError",
          "evalue": "ignored",
          "traceback": [
            "\u001b[0;36m  File \u001b[0;32m\"<ipython-input-18-a82647e7a267>\"\u001b[0;36m, line \u001b[0;32m2\u001b[0m\n\u001b[0;31m    1!　=　１\u001b[0m\n\u001b[0m     ^\u001b[0m\n\u001b[0;31mSyntaxError\u001b[0m\u001b[0;31m:\u001b[0m invalid syntax\n"
          ]
        }
      ]
    },
    {
      "cell_type": "markdown",
      "metadata": {
        "id": "Mov9GOnvfXZZ"
      },
      "source": [
        "# [4]break 指令\n",
        "```\n",
        "可在廻圈執行中途強迫跳離廻圈，跳到廻圈後面的程式繼續執行。\n",
        "```\n",
        "底下程式執行後結果為何?\n",
        "```\n",
        "fruits = [\"香蕉\",\"蘋果\",\"橘子\",\"鳳梨\",\"西瓜\"]\n",
        "\n",
        "while True:\n",
        "    fruit = input(\"請輸入喜歡的水果(Enter 結束)：\")\n",
        "\n",
        "  #  if (fruit==\"\"):\n",
        "  #      break\n",
        "\n",
        "    n = fruits.count(fruit) \n",
        "    if (n>0):  # 串列元素存在\n",
        "        p=fruits.index(fruit)\n",
        "        print(\"%s 在串列中的第 %d 項\" %(fruit,p+1))\n",
        "    else:\n",
        "        print(fruit,\"不在串列中!\")\n",
        "```"
      ]
    },
    {
      "cell_type": "code",
      "metadata": {
        "id": "SPv1AH94mPdM",
        "outputId": "736eb458-4c34-4f06-eae6-d9b32acbc40a",
        "colab": {
          "base_uri": "https://localhost:8080/",
          "height": 831
        }
      },
      "source": [
        "fruits = [\"香蕉\",\"蘋果\",\"橘子\",\"鳳梨\",\"西瓜\"]\n",
        " \n",
        "while True:\n",
        "    fruit = input(\"請輸入喜歡的水果(Enter 結束)：\")\n",
        " \n",
        "  #  if (fruit==\"\"):\n",
        "  #      break\n",
        " \n",
        "    n = fruits.count(fruit) \n",
        "    if (n>0):  # 串列元素存在\n",
        "        p=fruits.index(fruit)\n",
        "        print(\"%s 在串列中的第 %d 項\" %(fruit,p+1))\n",
        "    else:\n",
        "        print(fruit,\"不在串列中!\")\n",
        "        "
      ],
      "execution_count": 22,
      "outputs": [
        {
          "output_type": "stream",
          "text": [
            "請輸入喜歡的水果(Enter 結束)：西瓜\n",
            "西瓜 在串列中的第 5 項\n",
            "請輸入喜歡的水果(Enter 結束)：\n",
            " 不在串列中!\n",
            "請輸入喜歡的水果(Enter 結束)：\n",
            " 不在串列中!\n",
            "請輸入喜歡的水果(Enter 結束)：\n",
            " 不在串列中!\n",
            "請輸入喜歡的水果(Enter 結束)：\n",
            " 不在串列中!\n",
            "請輸入喜歡的水果(Enter 結束)：\n",
            " 不在串列中!\n",
            "請輸入喜歡的水果(Enter 結束)：\n",
            " 不在串列中!\n",
            "請輸入喜歡的水果(Enter 結束)：\n",
            " 不在串列中!\n"
          ],
          "name": "stdout"
        },
        {
          "output_type": "error",
          "ename": "KeyboardInterrupt",
          "evalue": "ignored",
          "traceback": [
            "\u001b[0;31m---------------------------------------------------------------------------\u001b[0m",
            "\u001b[0;31mKeyboardInterrupt\u001b[0m                         Traceback (most recent call last)",
            "\u001b[0;32m/usr/local/lib/python3.6/dist-packages/ipykernel/kernelbase.py\u001b[0m in \u001b[0;36m_input_request\u001b[0;34m(self, prompt, ident, parent, password)\u001b[0m\n\u001b[1;32m    728\u001b[0m             \u001b[0;32mtry\u001b[0m\u001b[0;34m:\u001b[0m\u001b[0;34m\u001b[0m\u001b[0;34m\u001b[0m\u001b[0m\n\u001b[0;32m--> 729\u001b[0;31m                 \u001b[0mident\u001b[0m\u001b[0;34m,\u001b[0m \u001b[0mreply\u001b[0m \u001b[0;34m=\u001b[0m \u001b[0mself\u001b[0m\u001b[0;34m.\u001b[0m\u001b[0msession\u001b[0m\u001b[0;34m.\u001b[0m\u001b[0mrecv\u001b[0m\u001b[0;34m(\u001b[0m\u001b[0mself\u001b[0m\u001b[0;34m.\u001b[0m\u001b[0mstdin_socket\u001b[0m\u001b[0;34m,\u001b[0m \u001b[0;36m0\u001b[0m\u001b[0;34m)\u001b[0m\u001b[0;34m\u001b[0m\u001b[0;34m\u001b[0m\u001b[0m\n\u001b[0m\u001b[1;32m    730\u001b[0m             \u001b[0;32mexcept\u001b[0m \u001b[0mException\u001b[0m\u001b[0;34m:\u001b[0m\u001b[0;34m\u001b[0m\u001b[0;34m\u001b[0m\u001b[0m\n",
            "\u001b[0;32m/usr/local/lib/python3.6/dist-packages/jupyter_client/session.py\u001b[0m in \u001b[0;36mrecv\u001b[0;34m(self, socket, mode, content, copy)\u001b[0m\n\u001b[1;32m    802\u001b[0m         \u001b[0;32mtry\u001b[0m\u001b[0;34m:\u001b[0m\u001b[0;34m\u001b[0m\u001b[0;34m\u001b[0m\u001b[0m\n\u001b[0;32m--> 803\u001b[0;31m             \u001b[0mmsg_list\u001b[0m \u001b[0;34m=\u001b[0m \u001b[0msocket\u001b[0m\u001b[0;34m.\u001b[0m\u001b[0mrecv_multipart\u001b[0m\u001b[0;34m(\u001b[0m\u001b[0mmode\u001b[0m\u001b[0;34m,\u001b[0m \u001b[0mcopy\u001b[0m\u001b[0;34m=\u001b[0m\u001b[0mcopy\u001b[0m\u001b[0;34m)\u001b[0m\u001b[0;34m\u001b[0m\u001b[0;34m\u001b[0m\u001b[0m\n\u001b[0m\u001b[1;32m    804\u001b[0m         \u001b[0;32mexcept\u001b[0m \u001b[0mzmq\u001b[0m\u001b[0;34m.\u001b[0m\u001b[0mZMQError\u001b[0m \u001b[0;32mas\u001b[0m \u001b[0me\u001b[0m\u001b[0;34m:\u001b[0m\u001b[0;34m\u001b[0m\u001b[0;34m\u001b[0m\u001b[0m\n",
            "\u001b[0;32m/usr/local/lib/python3.6/dist-packages/zmq/sugar/socket.py\u001b[0m in \u001b[0;36mrecv_multipart\u001b[0;34m(self, flags, copy, track)\u001b[0m\n\u001b[1;32m    490\u001b[0m         \"\"\"\n\u001b[0;32m--> 491\u001b[0;31m         \u001b[0mparts\u001b[0m \u001b[0;34m=\u001b[0m \u001b[0;34m[\u001b[0m\u001b[0mself\u001b[0m\u001b[0;34m.\u001b[0m\u001b[0mrecv\u001b[0m\u001b[0;34m(\u001b[0m\u001b[0mflags\u001b[0m\u001b[0;34m,\u001b[0m \u001b[0mcopy\u001b[0m\u001b[0;34m=\u001b[0m\u001b[0mcopy\u001b[0m\u001b[0;34m,\u001b[0m \u001b[0mtrack\u001b[0m\u001b[0;34m=\u001b[0m\u001b[0mtrack\u001b[0m\u001b[0;34m)\u001b[0m\u001b[0;34m]\u001b[0m\u001b[0;34m\u001b[0m\u001b[0;34m\u001b[0m\u001b[0m\n\u001b[0m\u001b[1;32m    492\u001b[0m         \u001b[0;31m# have first part already, only loop while more to receive\u001b[0m\u001b[0;34m\u001b[0m\u001b[0;34m\u001b[0m\u001b[0;34m\u001b[0m\u001b[0m\n",
            "\u001b[0;32mzmq/backend/cython/socket.pyx\u001b[0m in \u001b[0;36mzmq.backend.cython.socket.Socket.recv\u001b[0;34m()\u001b[0m\n",
            "\u001b[0;32mzmq/backend/cython/socket.pyx\u001b[0m in \u001b[0;36mzmq.backend.cython.socket.Socket.recv\u001b[0;34m()\u001b[0m\n",
            "\u001b[0;32mzmq/backend/cython/socket.pyx\u001b[0m in \u001b[0;36mzmq.backend.cython.socket._recv_copy\u001b[0;34m()\u001b[0m\n",
            "\u001b[0;32m/usr/local/lib/python3.6/dist-packages/zmq/backend/cython/checkrc.pxd\u001b[0m in \u001b[0;36mzmq.backend.cython.checkrc._check_rc\u001b[0;34m()\u001b[0m\n",
            "\u001b[0;31mKeyboardInterrupt\u001b[0m: ",
            "\nDuring handling of the above exception, another exception occurred:\n",
            "\u001b[0;31mKeyboardInterrupt\u001b[0m                         Traceback (most recent call last)",
            "\u001b[0;32m<ipython-input-22-f40fb99ba7f8>\u001b[0m in \u001b[0;36m<module>\u001b[0;34m()\u001b[0m\n\u001b[1;32m      2\u001b[0m \u001b[0;34m\u001b[0m\u001b[0m\n\u001b[1;32m      3\u001b[0m \u001b[0;32mwhile\u001b[0m \u001b[0;32mTrue\u001b[0m\u001b[0;34m:\u001b[0m\u001b[0;34m\u001b[0m\u001b[0;34m\u001b[0m\u001b[0m\n\u001b[0;32m----> 4\u001b[0;31m     \u001b[0mfruit\u001b[0m \u001b[0;34m=\u001b[0m \u001b[0minput\u001b[0m\u001b[0;34m(\u001b[0m\u001b[0;34m\"請輸入喜歡的水果(Enter 結束)：\"\u001b[0m\u001b[0;34m)\u001b[0m\u001b[0;34m\u001b[0m\u001b[0;34m\u001b[0m\u001b[0m\n\u001b[0m\u001b[1;32m      5\u001b[0m \u001b[0;34m\u001b[0m\u001b[0m\n\u001b[1;32m      6\u001b[0m   \u001b[0;31m#  if (fruit==\"\"):\u001b[0m\u001b[0;34m\u001b[0m\u001b[0;34m\u001b[0m\u001b[0;34m\u001b[0m\u001b[0m\n",
            "\u001b[0;32m/usr/local/lib/python3.6/dist-packages/ipykernel/kernelbase.py\u001b[0m in \u001b[0;36mraw_input\u001b[0;34m(self, prompt)\u001b[0m\n\u001b[1;32m    702\u001b[0m             \u001b[0mself\u001b[0m\u001b[0;34m.\u001b[0m\u001b[0m_parent_ident\u001b[0m\u001b[0;34m,\u001b[0m\u001b[0;34m\u001b[0m\u001b[0;34m\u001b[0m\u001b[0m\n\u001b[1;32m    703\u001b[0m             \u001b[0mself\u001b[0m\u001b[0;34m.\u001b[0m\u001b[0m_parent_header\u001b[0m\u001b[0;34m,\u001b[0m\u001b[0;34m\u001b[0m\u001b[0;34m\u001b[0m\u001b[0m\n\u001b[0;32m--> 704\u001b[0;31m             \u001b[0mpassword\u001b[0m\u001b[0;34m=\u001b[0m\u001b[0;32mFalse\u001b[0m\u001b[0;34m,\u001b[0m\u001b[0;34m\u001b[0m\u001b[0;34m\u001b[0m\u001b[0m\n\u001b[0m\u001b[1;32m    705\u001b[0m         )\n\u001b[1;32m    706\u001b[0m \u001b[0;34m\u001b[0m\u001b[0m\n",
            "\u001b[0;32m/usr/local/lib/python3.6/dist-packages/ipykernel/kernelbase.py\u001b[0m in \u001b[0;36m_input_request\u001b[0;34m(self, prompt, ident, parent, password)\u001b[0m\n\u001b[1;32m    732\u001b[0m             \u001b[0;32mexcept\u001b[0m \u001b[0mKeyboardInterrupt\u001b[0m\u001b[0;34m:\u001b[0m\u001b[0;34m\u001b[0m\u001b[0;34m\u001b[0m\u001b[0m\n\u001b[1;32m    733\u001b[0m                 \u001b[0;31m# re-raise KeyboardInterrupt, to truncate traceback\u001b[0m\u001b[0;34m\u001b[0m\u001b[0;34m\u001b[0m\u001b[0;34m\u001b[0m\u001b[0m\n\u001b[0;32m--> 734\u001b[0;31m                 \u001b[0;32mraise\u001b[0m \u001b[0mKeyboardInterrupt\u001b[0m\u001b[0;34m\u001b[0m\u001b[0;34m\u001b[0m\u001b[0m\n\u001b[0m\u001b[1;32m    735\u001b[0m             \u001b[0;32melse\u001b[0m\u001b[0;34m:\u001b[0m\u001b[0;34m\u001b[0m\u001b[0;34m\u001b[0m\u001b[0m\n\u001b[1;32m    736\u001b[0m                 \u001b[0;32mbreak\u001b[0m\u001b[0;34m\u001b[0m\u001b[0;34m\u001b[0m\u001b[0m\n",
            "\u001b[0;31mKeyboardInterrupt\u001b[0m: "
          ]
        }
      ]
    },
    {
      "cell_type": "markdown",
      "metadata": {
        "id": "2ZUsSavZfax9"
      },
      "source": [
        "# [5]continue 指令 \n",
        "```\n",
        "在廻圈執行中途暫時停住不往下執行，而跳到廻圈的起始處繼續執行\n",
        "```\n",
        "```\n",
        "撰寫一個可以排除數列中 5 的倍數的程式\n",
        "\n",
        "輸入::一個正整數 n\n",
        "輸出::\n",
        "使用者只要輸入一個正整數，\n",
        "程式會顯示由 1 到該整數的整數數列，但會將 5 的倍數排除\n",
        "```\n",
        "```\n",
        "n = int(input(\"請輸入正整數：\"))\n",
        "\n",
        "for i in range(1, n+1):\n",
        "    if i % 5 ==0:\n",
        "        continue\n",
        "    print(i,end=\" \")\n",
        "```"
      ]
    },
    {
      "cell_type": "code",
      "metadata": {
        "id": "3TOLblccmgej",
        "outputId": "bfd5a505-67fb-46b9-de49-d0e18115e068",
        "colab": {
          "base_uri": "https://localhost:8080/",
          "height": 50
        }
      },
      "source": [
        "n = int(input(\"請輸入正整數：\"))\n",
        " \n",
        "for i in range(1, n+1):\n",
        "    if i % 5 ==0:\n",
        "        continue\n",
        "    print(i,end=\" \")"
      ],
      "execution_count": 25,
      "outputs": [
        {
          "output_type": "stream",
          "text": [
            "請輸入正整數：42\n",
            "1 2 3 4 6 7 8 9 11 12 13 14 16 17 18 19 21 22 23 24 26 27 28 29 31 32 33 34 36 37 38 39 41 42 "
          ],
          "name": "stdout"
        }
      ]
    },
    {
      "cell_type": "markdown",
      "metadata": {
        "id": "eBEuRBWrfedb"
      },
      "source": [
        "### [程式設計題]\n",
        "```\n",
        "完成程式撰寫\n",
        "輸入一個正整數n\n",
        "列出小於n的 7倍數\n",
        "\n",
        "例如:輸入22\n",
        "輸出 7, 14, 21\n",
        "```"
      ]
    },
    {
      "cell_type": "code",
      "metadata": {
        "id": "NknBqXjXiVrk",
        "outputId": "1a995b54-cebd-477a-8234-f9ba0964f727",
        "colab": {
          "base_uri": "https://localhost:8080/",
          "height": 50
        }
      },
      "source": [
        "n = int(input(\"請輸入正整數：\"))\n",
        " \n",
        "for i in range(1, n):\n",
        "    if i % 7 !=0:\n",
        "        continue\n",
        "    print(i,end=\" \")"
      ],
      "execution_count": 26,
      "outputs": [
        {
          "output_type": "stream",
          "text": [
            "請輸入正整數：42\n",
            "7 14 21 28 35 "
          ],
          "name": "stdout"
        }
      ]
    },
    {
      "cell_type": "markdown",
      "metadata": {
        "id": "Wis8JxoMfphw"
      },
      "source": [
        "# 小小測驗:\n",
        "### [程式閱讀題] \n",
        "底下程式執行的結果為何?請說明其邏輯\n",
        "```\n",
        "#!/usr/bin/python\n",
        "# -*- coding: UTF-8 -*-\n",
        " \n",
        "for i in range(1,6):\n",
        "    for j in range(1,5):\n",
        "        for k in range(1,7):\n",
        "            if( i != k ) and (i != j) and (j != k):\n",
        "                print(i,j,k)\n",
        "```"
      ]
    },
    {
      "cell_type": "code",
      "metadata": {
        "id": "XvG-OopDms_9",
        "outputId": "13a8be99-1872-4697-fce7-c44bbe236b19",
        "colab": {
          "base_uri": "https://localhost:8080/",
          "height": 1000
        }
      },
      "source": [
        "# !/usr/bin/python\n",
        "# -*- coding: UTF-8 -*-\n",
        " \n",
        "for i in range(1,6):\n",
        "    for j in range(1,5):\n",
        "        for k in range(1,7):\n",
        "            if( i != k ) and (i != j) and (j != k):\n",
        "                print(i,j,k)"
      ],
      "execution_count": 27,
      "outputs": [
        {
          "output_type": "stream",
          "text": [
            "1 2 3\n",
            "1 2 4\n",
            "1 2 5\n",
            "1 2 6\n",
            "1 3 2\n",
            "1 3 4\n",
            "1 3 5\n",
            "1 3 6\n",
            "1 4 2\n",
            "1 4 3\n",
            "1 4 5\n",
            "1 4 6\n",
            "2 1 3\n",
            "2 1 4\n",
            "2 1 5\n",
            "2 1 6\n",
            "2 3 1\n",
            "2 3 4\n",
            "2 3 5\n",
            "2 3 6\n",
            "2 4 1\n",
            "2 4 3\n",
            "2 4 5\n",
            "2 4 6\n",
            "3 1 2\n",
            "3 1 4\n",
            "3 1 5\n",
            "3 1 6\n",
            "3 2 1\n",
            "3 2 4\n",
            "3 2 5\n",
            "3 2 6\n",
            "3 4 1\n",
            "3 4 2\n",
            "3 4 5\n",
            "3 4 6\n",
            "4 1 2\n",
            "4 1 3\n",
            "4 1 5\n",
            "4 1 6\n",
            "4 2 1\n",
            "4 2 3\n",
            "4 2 5\n",
            "4 2 6\n",
            "4 3 1\n",
            "4 3 2\n",
            "4 3 5\n",
            "4 3 6\n",
            "5 1 2\n",
            "5 1 3\n",
            "5 1 4\n",
            "5 1 6\n",
            "5 2 1\n",
            "5 2 3\n",
            "5 2 4\n",
            "5 2 6\n",
            "5 3 1\n",
            "5 3 2\n",
            "5 3 4\n",
            "5 3 6\n",
            "5 4 1\n",
            "5 4 2\n",
            "5 4 3\n",
            "5 4 6\n"
          ],
          "name": "stdout"
        }
      ]
    },
    {
      "cell_type": "markdown",
      "metadata": {
        "id": "PSbI2uNcfrYf"
      },
      "source": [
        "底下程式執行結果為何?\n",
        "```\n",
        "for x in range(19):\n",
        "  print(x)\n",
        "```"
      ]
    },
    {
      "cell_type": "code",
      "metadata": {
        "id": "ZAcARye8mvrE",
        "outputId": "ca82cd75-14a0-4f08-c81e-bbbec0cd0014",
        "colab": {
          "base_uri": "https://localhost:8080/",
          "height": 336
        }
      },
      "source": [
        "for x in range(19):\n",
        "  print(x)"
      ],
      "execution_count": 28,
      "outputs": [
        {
          "output_type": "stream",
          "text": [
            "0\n",
            "1\n",
            "2\n",
            "3\n",
            "4\n",
            "5\n",
            "6\n",
            "7\n",
            "8\n",
            "9\n",
            "10\n",
            "11\n",
            "12\n",
            "13\n",
            "14\n",
            "15\n",
            "16\n",
            "17\n",
            "18\n"
          ],
          "name": "stdout"
        }
      ]
    },
    {
      "cell_type": "markdown",
      "metadata": {
        "id": "R9iakcMAftmZ"
      },
      "source": [
        "底下程式執行後結果為何?\n",
        "```\n",
        "for x in range(0,19,2):\n",
        "  print(x)\n",
        "```"
      ]
    },
    {
      "cell_type": "code",
      "metadata": {
        "id": "rpWW608ImxIL",
        "outputId": "50710663-63b0-41d2-c572-7d51d450a0f0",
        "colab": {
          "base_uri": "https://localhost:8080/",
          "height": 185
        }
      },
      "source": [
        "for x in range(0,19,2):\n",
        "  print(x)"
      ],
      "execution_count": 29,
      "outputs": [
        {
          "output_type": "stream",
          "text": [
            "0\n",
            "2\n",
            "4\n",
            "6\n",
            "8\n",
            "10\n",
            "12\n",
            "14\n",
            "16\n",
            "18\n"
          ],
          "name": "stdout"
        }
      ]
    },
    {
      "cell_type": "markdown",
      "metadata": {
        "id": "djm4wUIqfv9O"
      },
      "source": [
        "底下程式執行後結果為何?\n",
        "```\n",
        "for x in range(20,11,-1):\n",
        "  print(x)\n",
        "```"
      ]
    },
    {
      "cell_type": "code",
      "metadata": {
        "id": "WEPGgFKVmzIj",
        "outputId": "0d5a9736-53bb-4c66-dfda-654ae9b0fe24",
        "colab": {
          "base_uri": "https://localhost:8080/",
          "height": 168
        }
      },
      "source": [
        "for x in range(20,11,-1):\n",
        "  print(x)"
      ],
      "execution_count": 30,
      "outputs": [
        {
          "output_type": "stream",
          "text": [
            "20\n",
            "19\n",
            "18\n",
            "17\n",
            "16\n",
            "15\n",
            "14\n",
            "13\n",
            "12\n"
          ],
          "name": "stdout"
        }
      ]
    },
    {
      "cell_type": "markdown",
      "metadata": {
        "id": "3vt7kjm2fx2u"
      },
      "source": [
        "底下程式執行後結果為何?\n",
        "```\n",
        "for x in range(0,19,-1):\n",
        "  print(x)\n",
        "```"
      ]
    },
    {
      "cell_type": "code",
      "metadata": {
        "id": "py1q0kokm0si"
      },
      "source": [
        "for x in range(0,19,-1):\n",
        "  print(x)"
      ],
      "execution_count": 32,
      "outputs": []
    },
    {
      "cell_type": "markdown",
      "metadata": {
        "id": "8mHFGbUCf0yL"
      },
      "source": [
        "底下程式執行後結果為何?\n",
        "```\n",
        "output = ''\n",
        "\n",
        "for x in range(0,19,3):\n",
        "  output += str(x)\n",
        "  print(output, end=\" \")\n",
        "```"
      ]
    },
    {
      "cell_type": "code",
      "metadata": {
        "id": "4HVgnErPm3aj",
        "outputId": "d42fc072-39ce-4663-d728-b8a8fde33d82",
        "colab": {
          "base_uri": "https://localhost:8080/",
          "height": 34
        }
      },
      "source": [
        "output = ''\n",
        " \n",
        "for x in range(0,19,3):\n",
        "  output += str(x)\n",
        "  print(output, end=\" \")"
      ],
      "execution_count": 33,
      "outputs": [
        {
          "output_type": "stream",
          "text": [
            "0 03 036 0369 036912 03691215 0369121518 "
          ],
          "name": "stdout"
        }
      ]
    },
    {
      "cell_type": "markdown",
      "metadata": {
        "id": "D1zJr61uf2ml"
      },
      "source": [
        "底下程式執行後結果為何?\n",
        "```\n",
        "output = ''\n",
        "\n",
        "for x in range(0,19,3):\n",
        "  print(x, end=\" \")\n",
        "```"
      ]
    },
    {
      "cell_type": "code",
      "metadata": {
        "id": "dqWVuGjZm5qz",
        "outputId": "9574733f-dba8-4353-c444-f533ef532111",
        "colab": {
          "base_uri": "https://localhost:8080/",
          "height": 34
        }
      },
      "source": [
        "output = ''\n",
        " \n",
        "for x in range(0,19,3):\n",
        "  print(x, end=\" \")"
      ],
      "execution_count": 34,
      "outputs": [
        {
          "output_type": "stream",
          "text": [
            "0 3 6 9 12 15 18 "
          ],
          "name": "stdout"
        }
      ]
    },
    {
      "cell_type": "markdown",
      "metadata": {
        "id": "PCiNEpPxf4dH"
      },
      "source": [
        "底下程式執行後結果為何?\n",
        "```\n",
        "list1 = range(0,19,3)\n",
        "\n",
        "for x in list1:\n",
        "  print(x, end=\" \")\n",
        "```"
      ]
    },
    {
      "cell_type": "code",
      "metadata": {
        "id": "_A22KRiMm7pl",
        "outputId": "f4cd930e-1a17-4127-ca12-22fa49bd9079",
        "colab": {
          "base_uri": "https://localhost:8080/",
          "height": 34
        }
      },
      "source": [
        "list1 = range(0,19,3)\n",
        " \n",
        "for x in list1:\n",
        "  print(x, end=\" \")"
      ],
      "execution_count": 35,
      "outputs": [
        {
          "output_type": "stream",
          "text": [
            "0 3 6 9 12 15 18 "
          ],
          "name": "stdout"
        }
      ]
    },
    {
      "cell_type": "markdown",
      "metadata": {
        "id": "qz9w1yVif72o"
      },
      "source": [
        "### [程式閱讀題] 下列程式輸入淨利潤為11111時請問輸出為何?\"\"\"\n",
        "```\n",
        "#!/usr/bin/python\n",
        "# -*- coding: UTF-8 -*-\n",
        " \n",
        "i = int(input('淨利潤:'))\n",
        "\n",
        "arr = [1000000,600000,400000,200000,100000,0]\n",
        "rat = [0.01,0.015,0.03,0.05,0.075,0.1]\n",
        "r = 0\n",
        "\n",
        "for idx in range(0,6):\n",
        "    if i>arr[idx]:\n",
        "        r+=(i-arr[idx])*rat[idx]\n",
        "        print((i-arr[idx])*rat[idx])\n",
        "        i=arr[idx]\n",
        "\n",
        "print(r)\n",
        "```"
      ]
    },
    {
      "cell_type": "code",
      "metadata": {
        "id": "SrLq6GDMm_Zb",
        "outputId": "5a29c174-4d42-428b-c19e-d0b5d29aae12",
        "colab": {
          "base_uri": "https://localhost:8080/",
          "height": 67
        }
      },
      "source": [
        "# !/usr/bin/python\n",
        "# -*- coding: UTF-8 -*-\n",
        " \n",
        "i = int(input('淨利潤:'))\n",
        " \n",
        "arr = [1000000,600000,400000,200000,100000,0]\n",
        "rat = [0.01,0.015,0.03,0.05,0.075,0.1]\n",
        "r = 0\n",
        " \n",
        "for idx in range(0,6):\n",
        "    if i>arr[idx]:\n",
        "        r+=(i-arr[idx])*rat[idx]\n",
        "        print((i-arr[idx])*rat[idx])\n",
        "        i=arr[idx]\n",
        " \n",
        "print(r)"
      ],
      "execution_count": 37,
      "outputs": [
        {
          "output_type": "stream",
          "text": [
            "淨利潤:44444\n",
            "4444.400000000001\n",
            "4444.400000000001\n"
          ],
          "name": "stdout"
        }
      ]
    },
    {
      "cell_type": "markdown",
      "metadata": {
        "id": "scWOvtyYtoPZ"
      },
      "source": [
        "\n",
        "# [6]巢狀廻圈Nested Loop[自主學習主題]\n",
        "```\n",
        "廻圈中又包含廻圈的巢狀廻圈　\n",
        "\n",
        "留給你當作業：九九乘法表\n",
        "```"
      ]
    },
    {
      "cell_type": "code",
      "metadata": {
        "id": "ZF8fD2sKjpWn",
        "outputId": "da62d96b-7cef-47e7-83e7-e939c4bc6fc0",
        "colab": {
          "base_uri": "https://localhost:8080/",
          "height": 168
        }
      },
      "source": [
        "for j in range(1,10):\n",
        "  for i in range(1,10):\n",
        "    print(\"%s * %s = %2d\" %(i, j, i * j), end = \"  \")\n",
        "  print()"
      ],
      "execution_count": 38,
      "outputs": [
        {
          "output_type": "stream",
          "text": [
            "1 * 1 =  1  2 * 1 =  2  3 * 1 =  3  4 * 1 =  4  5 * 1 =  5  6 * 1 =  6  7 * 1 =  7  8 * 1 =  8  9 * 1 =  9  \n",
            "1 * 2 =  2  2 * 2 =  4  3 * 2 =  6  4 * 2 =  8  5 * 2 = 10  6 * 2 = 12  7 * 2 = 14  8 * 2 = 16  9 * 2 = 18  \n",
            "1 * 3 =  3  2 * 3 =  6  3 * 3 =  9  4 * 3 = 12  5 * 3 = 15  6 * 3 = 18  7 * 3 = 21  8 * 3 = 24  9 * 3 = 27  \n",
            "1 * 4 =  4  2 * 4 =  8  3 * 4 = 12  4 * 4 = 16  5 * 4 = 20  6 * 4 = 24  7 * 4 = 28  8 * 4 = 32  9 * 4 = 36  \n",
            "1 * 5 =  5  2 * 5 = 10  3 * 5 = 15  4 * 5 = 20  5 * 5 = 25  6 * 5 = 30  7 * 5 = 35  8 * 5 = 40  9 * 5 = 45  \n",
            "1 * 6 =  6  2 * 6 = 12  3 * 6 = 18  4 * 6 = 24  5 * 6 = 30  6 * 6 = 36  7 * 6 = 42  8 * 6 = 48  9 * 6 = 54  \n",
            "1 * 7 =  7  2 * 7 = 14  3 * 7 = 21  4 * 7 = 28  5 * 7 = 35  6 * 7 = 42  7 * 7 = 49  8 * 7 = 56  9 * 7 = 63  \n",
            "1 * 8 =  8  2 * 8 = 16  3 * 8 = 24  4 * 8 = 32  5 * 8 = 40  6 * 8 = 48  7 * 8 = 56  8 * 8 = 64  9 * 8 = 72  \n",
            "1 * 9 =  9  2 * 9 = 18  3 * 9 = 27  4 * 9 = 36  5 * 9 = 45  6 * 9 = 54  7 * 9 = 63  8 * 9 = 72  9 * 9 = 81  \n"
          ],
          "name": "stdout"
        }
      ]
    }
  ]
}